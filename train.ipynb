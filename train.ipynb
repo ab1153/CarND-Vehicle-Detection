{
 "cells": [
  {
   "cell_type": "code",
   "execution_count": 1,
   "metadata": {
    "collapsed": true,
    "deletable": true,
    "editable": true
   },
   "outputs": [],
   "source": [
    "import numpy as np\n",
    "import cv2\n",
    "import matplotlib.pyplot as plt\n",
    "import matplotlib.image as mpimg\n",
    "% matplotlib inline\n",
    "from sklearn.preprocessing import StandardScaler\n",
    "import glob"
   ]
  },
  {
   "cell_type": "code",
   "execution_count": 2,
   "metadata": {
    "collapsed": false,
    "deletable": true,
    "editable": true
   },
   "outputs": [
    {
     "data": {
      "text/plain": [
       "<module 'sln.train' from 'D:\\\\side\\\\CarND-Vehicle-Detection\\\\sln\\\\train.py'>"
      ]
     },
     "execution_count": 2,
     "metadata": {},
     "output_type": "execute_result"
    }
   ],
   "source": [
    "from importlib import reload\n",
    "from sln import utils; reload(utils)\n",
    "from sln import train; reload(train)"
   ]
  },
  {
   "cell_type": "code",
   "execution_count": 3,
   "metadata": {
    "collapsed": true
   },
   "outputs": [],
   "source": [
    "vehicles = utils.load_array('vehicles/')\n",
    "non_vehicles = utils.load_array('non_vehicles/')"
   ]
  },
  {
   "cell_type": "code",
   "execution_count": 4,
   "metadata": {
    "collapsed": false,
    "deletable": true,
    "editable": true
   },
   "outputs": [],
   "source": [
    "vehicles_feats = []\n",
    "for img in vehicles:\n",
    "    YCrCb = cv2.cvtColor(img, cv2.COLOR_RGB2YCrCb)\n",
    "    hog_feat1 = train.get_hog_features(YCrCb[...,0], 9, 8, 2, False)\n",
    "    hog_feat2 = train.get_hog_features(YCrCb[...,1], 9, 8, 2, False)\n",
    "    hog_feat3 = train.get_hog_features(YCrCb[...,2], 9, 8, 2, False)\n",
    "    hog_feat = np.concatenate([hog_feat1,hog_feat2,hog_feat3])\n",
    "    feat = train.combine_feat(hog_feat, img)\n",
    "\n",
    "    vehicles_feats.append(hog_feat)\n",
    "vehicles_feats = np.array(vehicles_feats)   \n",
    "\n",
    "non_vehicles_feats = []\n",
    "for img in non_vehicles:\n",
    "    YCrCb = cv2.cvtColor(img, cv2.COLOR_RGB2YCrCb)\n",
    "    hog_feat1 = train.get_hog_features(YCrCb[...,0], 9, 8, 2, False)\n",
    "    hog_feat2 = train.get_hog_features(YCrCb[...,1], 9, 8, 2, False)\n",
    "    hog_feat3 = train.get_hog_features(YCrCb[...,2], 9, 8, 2, False)\n",
    "    hog_feat = np.concatenate([hog_feat1,hog_feat2,hog_feat3])\n",
    "    non_vehicles_feats.append(hog_feat)\n",
    "non_vehicles_feats = np.array(non_vehicles_feats)\n"
   ]
  },
  {
   "cell_type": "code",
   "execution_count": 5,
   "metadata": {
    "collapsed": false,
    "deletable": true,
    "editable": true
   },
   "outputs": [],
   "source": [
    "y = np.hstack((np.ones(len(vehicles_feats)), np.zeros(len(non_vehicles_feats))))\n",
    "x = np.vstack((vehicles_feats, non_vehicles_feats))"
   ]
  },
  {
   "cell_type": "code",
   "execution_count": 11,
   "metadata": {
    "collapsed": false,
    "deletable": true,
    "editable": true
   },
   "outputs": [],
   "source": [
    "rand_state = np.random.randint(0, 100)\n",
    "X_train, X_test, y_train, y_test = train.train_test_split(\n",
    "    x, y, test_size=0.2, random_state=rand_state)"
   ]
  },
  {
   "cell_type": "code",
   "execution_count": 12,
   "metadata": {
    "collapsed": false,
    "deletable": true,
    "editable": true
   },
   "outputs": [
    {
     "data": {
      "text/plain": [
       "LinearSVC(C=1.0, class_weight=None, dual=True, fit_intercept=True,\n",
       "     intercept_scaling=1, loss='squared_hinge', max_iter=1000,\n",
       "     multi_class='ovr', penalty='l2', random_state=None, tol=0.0001,\n",
       "     verbose=0)"
      ]
     },
     "execution_count": 12,
     "metadata": {},
     "output_type": "execute_result"
    }
   ],
   "source": [
    "svc = train.LinearSVC()\n",
    "svc.fit(X_train, y_train)"
   ]
  },
  {
   "cell_type": "code",
   "execution_count": 16,
   "metadata": {
    "collapsed": false,
    "deletable": true,
    "editable": true
   },
   "outputs": [
    {
     "name": "stdout",
     "output_type": "stream",
     "text": [
      "Test Accuracy of SVC =  0.988457207207\n"
     ]
    }
   ],
   "source": [
    "print('Test Accuracy of SVC = ', svc.score(X_test, y_test))"
   ]
  },
  {
   "cell_type": "code",
   "execution_count": 17,
   "metadata": {
    "collapsed": false,
    "deletable": true,
    "editable": true
   },
   "outputs": [],
   "source": [
    "import pickle\n",
    "with open('svc.p', 'wb') as f:\n",
    "    pickle.dump({'svc': svc}, f)"
   ]
  },
  {
   "cell_type": "code",
   "execution_count": 15,
   "metadata": {
    "collapsed": false
   },
   "outputs": [
    {
     "name": "stdout",
     "output_type": "stream",
     "text": [
      "Test Accuracy of SVC =  0.988457207207\n"
     ]
    }
   ],
   "source": [
    "svc_p = pickle.load(open(\"svc.p\", \"rb\" ))\n",
    "svc = svc_p['svc']\n",
    "print('Test Accuracy of SVC = ', svc.score(X_test, y_test))"
   ]
  }
 ],
 "metadata": {
  "kernelspec": {
   "display_name": "Python 3",
   "language": "python",
   "name": "python3"
  },
  "language_info": {
   "codemirror_mode": {
    "name": "ipython",
    "version": 3
   },
   "file_extension": ".py",
   "mimetype": "text/x-python",
   "name": "python",
   "nbconvert_exporter": "python",
   "pygments_lexer": "ipython3",
   "version": "3.5.2"
  },
  "widgets": {
   "state": {},
   "version": "1.1.2"
  }
 },
 "nbformat": 4,
 "nbformat_minor": 2
}
